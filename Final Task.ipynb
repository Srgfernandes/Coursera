{
 "cells": [
  {
   "cell_type": "markdown",
   "id": "9670025a",
   "metadata": {},
   "source": [
    "# My Jupyter Notebook on IBM Watson Studio"
   ]
  },
  {
   "cell_type": "markdown",
   "id": "abb42c40",
   "metadata": {},
   "source": [
    "<b>Name: Sérgio Fernandes</b> \n",
    "Occupation: Data Scientist"
   ]
  },
  {
   "cell_type": "markdown",
   "id": "45826ae2",
   "metadata": {},
   "source": [
    "<i> I'm interested in Data Science because it's amazing what we can do with data, and the many ways that we have to tell a story <7i>"
   ]
  },
  {
   "cell_type": "markdown",
   "id": "d4275e2f",
   "metadata": {},
   "source": [
    "### The next cell will only print the famous \"hello world\""
   ]
  },
  {
   "cell_type": "code",
   "execution_count": 1,
   "id": "bee20fb9",
   "metadata": {},
   "outputs": [
    {
     "name": "stdout",
     "output_type": "stream",
     "text": [
      "Hello World!\n"
     ]
    }
   ],
   "source": [
    "print(\"Hello World!\")"
   ]
  },
  {
   "cell_type": "markdown",
   "id": "96f6d103",
   "metadata": {},
   "source": [
    "<ul>\n",
    "    <li>Data Science</li>\n",
    "    <li>Coursera</li>\n",
    "    <li>Learning</li>\n",
    "</ul>\n",
    "\n",
    "---\n",
    "\n",
    "<ol>\n",
    "    <li>Data Science</li>\n",
    "    <li>Coursera</li>\n",
    "    <li>Learning</li>\n",
    "</ol>\n",
    "\n",
    "---\n",
    ">Block quote"
   ]
  }
 ],
 "metadata": {
  "kernelspec": {
   "display_name": "Python 3 (ipykernel)",
   "language": "python",
   "name": "python3"
  },
  "language_info": {
   "codemirror_mode": {
    "name": "ipython",
    "version": 3
   },
   "file_extension": ".py",
   "mimetype": "text/x-python",
   "name": "python",
   "nbconvert_exporter": "python",
   "pygments_lexer": "ipython3",
   "version": "3.9.12"
  }
 },
 "nbformat": 4,
 "nbformat_minor": 5
}
